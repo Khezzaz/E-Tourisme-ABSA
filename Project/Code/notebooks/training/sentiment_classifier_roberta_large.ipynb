{
  "metadata": {
    "kernelspec": {
      "name": "python3",
      "display_name": "Python 3"
    },
    "language_info": {
      "name": "python",
      "version": "3.11.11",
      "mimetype": "text/x-python",
      "codemirror_mode": {
        "name": "ipython",
        "version": 3
      },
      "pygments_lexer": "ipython3",
      "nbconvert_exporter": "python",
      "file_extension": ".py"
    },
    "colab": {
      "provenance": [],
      "gpuType": "T4"
    },
    "widgets": {
      "application/vnd.jupyter.widget-state+json": {
        "daa687f90236420cbb000bb6232d9567": {
          "model_module": "@jupyter-widgets/controls",
          "model_name": "HBoxModel",
          "model_module_version": "1.5.0",
          "state": {
            "_dom_classes": [],
            "_model_module": "@jupyter-widgets/controls",
            "_model_module_version": "1.5.0",
            "_model_name": "HBoxModel",
            "_view_count": null,
            "_view_module": "@jupyter-widgets/controls",
            "_view_module_version": "1.5.0",
            "_view_name": "HBoxView",
            "box_style": "",
            "children": [
              "IPY_MODEL_4c4b8998b44a4ff0a3e5a0e1caf5e943",
              "IPY_MODEL_8113beb65b9349c4b0531c66fdd71c6d",
              "IPY_MODEL_4f46f50bc23f4ae0be3747afae13e730"
            ],
            "layout": "IPY_MODEL_b2e30e8ff5b9422f8059fb25e54719a4"
          }
        },
        "4c4b8998b44a4ff0a3e5a0e1caf5e943": {
          "model_module": "@jupyter-widgets/controls",
          "model_name": "HTMLModel",
          "model_module_version": "1.5.0",
          "state": {
            "_dom_classes": [],
            "_model_module": "@jupyter-widgets/controls",
            "_model_module_version": "1.5.0",
            "_model_name": "HTMLModel",
            "_view_count": null,
            "_view_module": "@jupyter-widgets/controls",
            "_view_module_version": "1.5.0",
            "_view_name": "HTMLView",
            "description": "",
            "description_tooltip": null,
            "layout": "IPY_MODEL_dc9cd6e05f5843bea6c4fb97889041cf",
            "placeholder": "​",
            "style": "IPY_MODEL_fa7ca8e2c7d2496d9819f2af7f313a48",
            "value": "Map: 100%"
          }
        },
        "8113beb65b9349c4b0531c66fdd71c6d": {
          "model_module": "@jupyter-widgets/controls",
          "model_name": "FloatProgressModel",
          "model_module_version": "1.5.0",
          "state": {
            "_dom_classes": [],
            "_model_module": "@jupyter-widgets/controls",
            "_model_module_version": "1.5.0",
            "_model_name": "FloatProgressModel",
            "_view_count": null,
            "_view_module": "@jupyter-widgets/controls",
            "_view_module_version": "1.5.0",
            "_view_name": "ProgressView",
            "bar_style": "success",
            "description": "",
            "description_tooltip": null,
            "layout": "IPY_MODEL_26b085c3180e4e978e6f6fe861b73104",
            "max": 6997,
            "min": 0,
            "orientation": "horizontal",
            "style": "IPY_MODEL_ecf95fcab7534d489464e248266d737f",
            "value": 6997
          }
        },
        "4f46f50bc23f4ae0be3747afae13e730": {
          "model_module": "@jupyter-widgets/controls",
          "model_name": "HTMLModel",
          "model_module_version": "1.5.0",
          "state": {
            "_dom_classes": [],
            "_model_module": "@jupyter-widgets/controls",
            "_model_module_version": "1.5.0",
            "_model_name": "HTMLModel",
            "_view_count": null,
            "_view_module": "@jupyter-widgets/controls",
            "_view_module_version": "1.5.0",
            "_view_name": "HTMLView",
            "description": "",
            "description_tooltip": null,
            "layout": "IPY_MODEL_6d4cebf3d8be4ff8a44bd6bb723038ce",
            "placeholder": "​",
            "style": "IPY_MODEL_39563e798f8c410c8302261942153046",
            "value": " 6997/6997 [00:10&lt;00:00, 610.45 examples/s]"
          }
        },
        "b2e30e8ff5b9422f8059fb25e54719a4": {
          "model_module": "@jupyter-widgets/base",
          "model_name": "LayoutModel",
          "model_module_version": "1.2.0",
          "state": {
            "_model_module": "@jupyter-widgets/base",
            "_model_module_version": "1.2.0",
            "_model_name": "LayoutModel",
            "_view_count": null,
            "_view_module": "@jupyter-widgets/base",
            "_view_module_version": "1.2.0",
            "_view_name": "LayoutView",
            "align_content": null,
            "align_items": null,
            "align_self": null,
            "border": null,
            "bottom": null,
            "display": null,
            "flex": null,
            "flex_flow": null,
            "grid_area": null,
            "grid_auto_columns": null,
            "grid_auto_flow": null,
            "grid_auto_rows": null,
            "grid_column": null,
            "grid_gap": null,
            "grid_row": null,
            "grid_template_areas": null,
            "grid_template_columns": null,
            "grid_template_rows": null,
            "height": null,
            "justify_content": null,
            "justify_items": null,
            "left": null,
            "margin": null,
            "max_height": null,
            "max_width": null,
            "min_height": null,
            "min_width": null,
            "object_fit": null,
            "object_position": null,
            "order": null,
            "overflow": null,
            "overflow_x": null,
            "overflow_y": null,
            "padding": null,
            "right": null,
            "top": null,
            "visibility": null,
            "width": null
          }
        },
        "dc9cd6e05f5843bea6c4fb97889041cf": {
          "model_module": "@jupyter-widgets/base",
          "model_name": "LayoutModel",
          "model_module_version": "1.2.0",
          "state": {
            "_model_module": "@jupyter-widgets/base",
            "_model_module_version": "1.2.0",
            "_model_name": "LayoutModel",
            "_view_count": null,
            "_view_module": "@jupyter-widgets/base",
            "_view_module_version": "1.2.0",
            "_view_name": "LayoutView",
            "align_content": null,
            "align_items": null,
            "align_self": null,
            "border": null,
            "bottom": null,
            "display": null,
            "flex": null,
            "flex_flow": null,
            "grid_area": null,
            "grid_auto_columns": null,
            "grid_auto_flow": null,
            "grid_auto_rows": null,
            "grid_column": null,
            "grid_gap": null,
            "grid_row": null,
            "grid_template_areas": null,
            "grid_template_columns": null,
            "grid_template_rows": null,
            "height": null,
            "justify_content": null,
            "justify_items": null,
            "left": null,
            "margin": null,
            "max_height": null,
            "max_width": null,
            "min_height": null,
            "min_width": null,
            "object_fit": null,
            "object_position": null,
            "order": null,
            "overflow": null,
            "overflow_x": null,
            "overflow_y": null,
            "padding": null,
            "right": null,
            "top": null,
            "visibility": null,
            "width": null
          }
        },
        "fa7ca8e2c7d2496d9819f2af7f313a48": {
          "model_module": "@jupyter-widgets/controls",
          "model_name": "DescriptionStyleModel",
          "model_module_version": "1.5.0",
          "state": {
            "_model_module": "@jupyter-widgets/controls",
            "_model_module_version": "1.5.0",
            "_model_name": "DescriptionStyleModel",
            "_view_count": null,
            "_view_module": "@jupyter-widgets/base",
            "_view_module_version": "1.2.0",
            "_view_name": "StyleView",
            "description_width": ""
          }
        },
        "26b085c3180e4e978e6f6fe861b73104": {
          "model_module": "@jupyter-widgets/base",
          "model_name": "LayoutModel",
          "model_module_version": "1.2.0",
          "state": {
            "_model_module": "@jupyter-widgets/base",
            "_model_module_version": "1.2.0",
            "_model_name": "LayoutModel",
            "_view_count": null,
            "_view_module": "@jupyter-widgets/base",
            "_view_module_version": "1.2.0",
            "_view_name": "LayoutView",
            "align_content": null,
            "align_items": null,
            "align_self": null,
            "border": null,
            "bottom": null,
            "display": null,
            "flex": null,
            "flex_flow": null,
            "grid_area": null,
            "grid_auto_columns": null,
            "grid_auto_flow": null,
            "grid_auto_rows": null,
            "grid_column": null,
            "grid_gap": null,
            "grid_row": null,
            "grid_template_areas": null,
            "grid_template_columns": null,
            "grid_template_rows": null,
            "height": null,
            "justify_content": null,
            "justify_items": null,
            "left": null,
            "margin": null,
            "max_height": null,
            "max_width": null,
            "min_height": null,
            "min_width": null,
            "object_fit": null,
            "object_position": null,
            "order": null,
            "overflow": null,
            "overflow_x": null,
            "overflow_y": null,
            "padding": null,
            "right": null,
            "top": null,
            "visibility": null,
            "width": null
          }
        },
        "ecf95fcab7534d489464e248266d737f": {
          "model_module": "@jupyter-widgets/controls",
          "model_name": "ProgressStyleModel",
          "model_module_version": "1.5.0",
          "state": {
            "_model_module": "@jupyter-widgets/controls",
            "_model_module_version": "1.5.0",
            "_model_name": "ProgressStyleModel",
            "_view_count": null,
            "_view_module": "@jupyter-widgets/base",
            "_view_module_version": "1.2.0",
            "_view_name": "StyleView",
            "bar_color": null,
            "description_width": ""
          }
        },
        "6d4cebf3d8be4ff8a44bd6bb723038ce": {
          "model_module": "@jupyter-widgets/base",
          "model_name": "LayoutModel",
          "model_module_version": "1.2.0",
          "state": {
            "_model_module": "@jupyter-widgets/base",
            "_model_module_version": "1.2.0",
            "_model_name": "LayoutModel",
            "_view_count": null,
            "_view_module": "@jupyter-widgets/base",
            "_view_module_version": "1.2.0",
            "_view_name": "LayoutView",
            "align_content": null,
            "align_items": null,
            "align_self": null,
            "border": null,
            "bottom": null,
            "display": null,
            "flex": null,
            "flex_flow": null,
            "grid_area": null,
            "grid_auto_columns": null,
            "grid_auto_flow": null,
            "grid_auto_rows": null,
            "grid_column": null,
            "grid_gap": null,
            "grid_row": null,
            "grid_template_areas": null,
            "grid_template_columns": null,
            "grid_template_rows": null,
            "height": null,
            "justify_content": null,
            "justify_items": null,
            "left": null,
            "margin": null,
            "max_height": null,
            "max_width": null,
            "min_height": null,
            "min_width": null,
            "object_fit": null,
            "object_position": null,
            "order": null,
            "overflow": null,
            "overflow_x": null,
            "overflow_y": null,
            "padding": null,
            "right": null,
            "top": null,
            "visibility": null,
            "width": null
          }
        },
        "39563e798f8c410c8302261942153046": {
          "model_module": "@jupyter-widgets/controls",
          "model_name": "DescriptionStyleModel",
          "model_module_version": "1.5.0",
          "state": {
            "_model_module": "@jupyter-widgets/controls",
            "_model_module_version": "1.5.0",
            "_model_name": "DescriptionStyleModel",
            "_view_count": null,
            "_view_module": "@jupyter-widgets/base",
            "_view_module_version": "1.2.0",
            "_view_name": "StyleView",
            "description_width": ""
          }
        },
        "24a00e3770994b0c8035c49cee3709ab": {
          "model_module": "@jupyter-widgets/controls",
          "model_name": "HBoxModel",
          "model_module_version": "1.5.0",
          "state": {
            "_dom_classes": [],
            "_model_module": "@jupyter-widgets/controls",
            "_model_module_version": "1.5.0",
            "_model_name": "HBoxModel",
            "_view_count": null,
            "_view_module": "@jupyter-widgets/controls",
            "_view_module_version": "1.5.0",
            "_view_name": "HBoxView",
            "box_style": "",
            "children": [
              "IPY_MODEL_75d627ddee59496f9e1eb60d26978947",
              "IPY_MODEL_f32754ccaa344da899ed0b48a5b7cadf",
              "IPY_MODEL_737464b41d2f43f989c4b983911ac9e2"
            ],
            "layout": "IPY_MODEL_edf71ccd2143469cad603d65deb13176"
          }
        },
        "75d627ddee59496f9e1eb60d26978947": {
          "model_module": "@jupyter-widgets/controls",
          "model_name": "HTMLModel",
          "model_module_version": "1.5.0",
          "state": {
            "_dom_classes": [],
            "_model_module": "@jupyter-widgets/controls",
            "_model_module_version": "1.5.0",
            "_model_name": "HTMLModel",
            "_view_count": null,
            "_view_module": "@jupyter-widgets/controls",
            "_view_module_version": "1.5.0",
            "_view_name": "HTMLView",
            "description": "",
            "description_tooltip": null,
            "layout": "IPY_MODEL_f07805dd5d85420e99614ef75706386b",
            "placeholder": "​",
            "style": "IPY_MODEL_dba0e3ce946245f4998ac5f46bf9cee6",
            "value": "Map: 100%"
          }
        },
        "f32754ccaa344da899ed0b48a5b7cadf": {
          "model_module": "@jupyter-widgets/controls",
          "model_name": "FloatProgressModel",
          "model_module_version": "1.5.0",
          "state": {
            "_dom_classes": [],
            "_model_module": "@jupyter-widgets/controls",
            "_model_module_version": "1.5.0",
            "_model_name": "FloatProgressModel",
            "_view_count": null,
            "_view_module": "@jupyter-widgets/controls",
            "_view_module_version": "1.5.0",
            "_view_name": "ProgressView",
            "bar_style": "success",
            "description": "",
            "description_tooltip": null,
            "layout": "IPY_MODEL_00a269d3c6324cf793e7ee401d111a3c",
            "max": 1019,
            "min": 0,
            "orientation": "horizontal",
            "style": "IPY_MODEL_59d6c57b0e57484b84c779787f620c14",
            "value": 1019
          }
        },
        "737464b41d2f43f989c4b983911ac9e2": {
          "model_module": "@jupyter-widgets/controls",
          "model_name": "HTMLModel",
          "model_module_version": "1.5.0",
          "state": {
            "_dom_classes": [],
            "_model_module": "@jupyter-widgets/controls",
            "_model_module_version": "1.5.0",
            "_model_name": "HTMLModel",
            "_view_count": null,
            "_view_module": "@jupyter-widgets/controls",
            "_view_module_version": "1.5.0",
            "_view_name": "HTMLView",
            "description": "",
            "description_tooltip": null,
            "layout": "IPY_MODEL_c6041687c1de46ae84654e574d243075",
            "placeholder": "​",
            "style": "IPY_MODEL_f6e710c0c9064ba2bee9ff1b7388fef4",
            "value": " 1019/1019 [00:01&lt;00:00, 647.14 examples/s]"
          }
        },
        "edf71ccd2143469cad603d65deb13176": {
          "model_module": "@jupyter-widgets/base",
          "model_name": "LayoutModel",
          "model_module_version": "1.2.0",
          "state": {
            "_model_module": "@jupyter-widgets/base",
            "_model_module_version": "1.2.0",
            "_model_name": "LayoutModel",
            "_view_count": null,
            "_view_module": "@jupyter-widgets/base",
            "_view_module_version": "1.2.0",
            "_view_name": "LayoutView",
            "align_content": null,
            "align_items": null,
            "align_self": null,
            "border": null,
            "bottom": null,
            "display": null,
            "flex": null,
            "flex_flow": null,
            "grid_area": null,
            "grid_auto_columns": null,
            "grid_auto_flow": null,
            "grid_auto_rows": null,
            "grid_column": null,
            "grid_gap": null,
            "grid_row": null,
            "grid_template_areas": null,
            "grid_template_columns": null,
            "grid_template_rows": null,
            "height": null,
            "justify_content": null,
            "justify_items": null,
            "left": null,
            "margin": null,
            "max_height": null,
            "max_width": null,
            "min_height": null,
            "min_width": null,
            "object_fit": null,
            "object_position": null,
            "order": null,
            "overflow": null,
            "overflow_x": null,
            "overflow_y": null,
            "padding": null,
            "right": null,
            "top": null,
            "visibility": null,
            "width": null
          }
        },
        "f07805dd5d85420e99614ef75706386b": {
          "model_module": "@jupyter-widgets/base",
          "model_name": "LayoutModel",
          "model_module_version": "1.2.0",
          "state": {
            "_model_module": "@jupyter-widgets/base",
            "_model_module_version": "1.2.0",
            "_model_name": "LayoutModel",
            "_view_count": null,
            "_view_module": "@jupyter-widgets/base",
            "_view_module_version": "1.2.0",
            "_view_name": "LayoutView",
            "align_content": null,
            "align_items": null,
            "align_self": null,
            "border": null,
            "bottom": null,
            "display": null,
            "flex": null,
            "flex_flow": null,
            "grid_area": null,
            "grid_auto_columns": null,
            "grid_auto_flow": null,
            "grid_auto_rows": null,
            "grid_column": null,
            "grid_gap": null,
            "grid_row": null,
            "grid_template_areas": null,
            "grid_template_columns": null,
            "grid_template_rows": null,
            "height": null,
            "justify_content": null,
            "justify_items": null,
            "left": null,
            "margin": null,
            "max_height": null,
            "max_width": null,
            "min_height": null,
            "min_width": null,
            "object_fit": null,
            "object_position": null,
            "order": null,
            "overflow": null,
            "overflow_x": null,
            "overflow_y": null,
            "padding": null,
            "right": null,
            "top": null,
            "visibility": null,
            "width": null
          }
        },
        "dba0e3ce946245f4998ac5f46bf9cee6": {
          "model_module": "@jupyter-widgets/controls",
          "model_name": "DescriptionStyleModel",
          "model_module_version": "1.5.0",
          "state": {
            "_model_module": "@jupyter-widgets/controls",
            "_model_module_version": "1.5.0",
            "_model_name": "DescriptionStyleModel",
            "_view_count": null,
            "_view_module": "@jupyter-widgets/base",
            "_view_module_version": "1.2.0",
            "_view_name": "StyleView",
            "description_width": ""
          }
        },
        "00a269d3c6324cf793e7ee401d111a3c": {
          "model_module": "@jupyter-widgets/base",
          "model_name": "LayoutModel",
          "model_module_version": "1.2.0",
          "state": {
            "_model_module": "@jupyter-widgets/base",
            "_model_module_version": "1.2.0",
            "_model_name": "LayoutModel",
            "_view_count": null,
            "_view_module": "@jupyter-widgets/base",
            "_view_module_version": "1.2.0",
            "_view_name": "LayoutView",
            "align_content": null,
            "align_items": null,
            "align_self": null,
            "border": null,
            "bottom": null,
            "display": null,
            "flex": null,
            "flex_flow": null,
            "grid_area": null,
            "grid_auto_columns": null,
            "grid_auto_flow": null,
            "grid_auto_rows": null,
            "grid_column": null,
            "grid_gap": null,
            "grid_row": null,
            "grid_template_areas": null,
            "grid_template_columns": null,
            "grid_template_rows": null,
            "height": null,
            "justify_content": null,
            "justify_items": null,
            "left": null,
            "margin": null,
            "max_height": null,
            "max_width": null,
            "min_height": null,
            "min_width": null,
            "object_fit": null,
            "object_position": null,
            "order": null,
            "overflow": null,
            "overflow_x": null,
            "overflow_y": null,
            "padding": null,
            "right": null,
            "top": null,
            "visibility": null,
            "width": null
          }
        },
        "59d6c57b0e57484b84c779787f620c14": {
          "model_module": "@jupyter-widgets/controls",
          "model_name": "ProgressStyleModel",
          "model_module_version": "1.5.0",
          "state": {
            "_model_module": "@jupyter-widgets/controls",
            "_model_module_version": "1.5.0",
            "_model_name": "ProgressStyleModel",
            "_view_count": null,
            "_view_module": "@jupyter-widgets/base",
            "_view_module_version": "1.2.0",
            "_view_name": "StyleView",
            "bar_color": null,
            "description_width": ""
          }
        },
        "c6041687c1de46ae84654e574d243075": {
          "model_module": "@jupyter-widgets/base",
          "model_name": "LayoutModel",
          "model_module_version": "1.2.0",
          "state": {
            "_model_module": "@jupyter-widgets/base",
            "_model_module_version": "1.2.0",
            "_model_name": "LayoutModel",
            "_view_count": null,
            "_view_module": "@jupyter-widgets/base",
            "_view_module_version": "1.2.0",
            "_view_name": "LayoutView",
            "align_content": null,
            "align_items": null,
            "align_self": null,
            "border": null,
            "bottom": null,
            "display": null,
            "flex": null,
            "flex_flow": null,
            "grid_area": null,
            "grid_auto_columns": null,
            "grid_auto_flow": null,
            "grid_auto_rows": null,
            "grid_column": null,
            "grid_gap": null,
            "grid_row": null,
            "grid_template_areas": null,
            "grid_template_columns": null,
            "grid_template_rows": null,
            "height": null,
            "justify_content": null,
            "justify_items": null,
            "left": null,
            "margin": null,
            "max_height": null,
            "max_width": null,
            "min_height": null,
            "min_width": null,
            "object_fit": null,
            "object_position": null,
            "order": null,
            "overflow": null,
            "overflow_x": null,
            "overflow_y": null,
            "padding": null,
            "right": null,
            "top": null,
            "visibility": null,
            "width": null
          }
        },
        "f6e710c0c9064ba2bee9ff1b7388fef4": {
          "model_module": "@jupyter-widgets/controls",
          "model_name": "DescriptionStyleModel",
          "model_module_version": "1.5.0",
          "state": {
            "_model_module": "@jupyter-widgets/controls",
            "_model_module_version": "1.5.0",
            "_model_name": "DescriptionStyleModel",
            "_view_count": null,
            "_view_module": "@jupyter-widgets/base",
            "_view_module_version": "1.2.0",
            "_view_name": "StyleView",
            "description_width": ""
          }
        },
        "f1d1d6a7192a44d0bb4ec40438099611": {
          "model_module": "@jupyter-widgets/controls",
          "model_name": "HBoxModel",
          "model_module_version": "1.5.0",
          "state": {
            "_dom_classes": [],
            "_model_module": "@jupyter-widgets/controls",
            "_model_module_version": "1.5.0",
            "_model_name": "HBoxModel",
            "_view_count": null,
            "_view_module": "@jupyter-widgets/controls",
            "_view_module_version": "1.5.0",
            "_view_name": "HBoxView",
            "box_style": "",
            "children": [
              "IPY_MODEL_010d29f0d76c47a9bc8aebfa854feede",
              "IPY_MODEL_1f5be43de78a48819d6241038fea9629",
              "IPY_MODEL_e86b931a940a40c1931cd94ced719c0c"
            ],
            "layout": "IPY_MODEL_f21bf8868ad04a7584a8428a87b1549d"
          }
        },
        "010d29f0d76c47a9bc8aebfa854feede": {
          "model_module": "@jupyter-widgets/controls",
          "model_name": "HTMLModel",
          "model_module_version": "1.5.0",
          "state": {
            "_dom_classes": [],
            "_model_module": "@jupyter-widgets/controls",
            "_model_module_version": "1.5.0",
            "_model_name": "HTMLModel",
            "_view_count": null,
            "_view_module": "@jupyter-widgets/controls",
            "_view_module_version": "1.5.0",
            "_view_name": "HTMLView",
            "description": "",
            "description_tooltip": null,
            "layout": "IPY_MODEL_d8a152e0b39843998127795d70a8795b",
            "placeholder": "​",
            "style": "IPY_MODEL_b4546a2031e5404db74c86f4a5512a3a",
            "value": "Map: 100%"
          }
        },
        "1f5be43de78a48819d6241038fea9629": {
          "model_module": "@jupyter-widgets/controls",
          "model_name": "FloatProgressModel",
          "model_module_version": "1.5.0",
          "state": {
            "_dom_classes": [],
            "_model_module": "@jupyter-widgets/controls",
            "_model_module_version": "1.5.0",
            "_model_name": "FloatProgressModel",
            "_view_count": null,
            "_view_module": "@jupyter-widgets/controls",
            "_view_module_version": "1.5.0",
            "_view_name": "ProgressView",
            "bar_style": "success",
            "description": "",
            "description_tooltip": null,
            "layout": "IPY_MODEL_e334e25861274a9d9d01d0db9cfc2ed9",
            "max": 1980,
            "min": 0,
            "orientation": "horizontal",
            "style": "IPY_MODEL_8793d2ac0c104425aa2f55ca403e2928",
            "value": 1980
          }
        },
        "e86b931a940a40c1931cd94ced719c0c": {
          "model_module": "@jupyter-widgets/controls",
          "model_name": "HTMLModel",
          "model_module_version": "1.5.0",
          "state": {
            "_dom_classes": [],
            "_model_module": "@jupyter-widgets/controls",
            "_model_module_version": "1.5.0",
            "_model_name": "HTMLModel",
            "_view_count": null,
            "_view_module": "@jupyter-widgets/controls",
            "_view_module_version": "1.5.0",
            "_view_name": "HTMLView",
            "description": "",
            "description_tooltip": null,
            "layout": "IPY_MODEL_553b53f3297c4294a75b41c9fc095ab3",
            "placeholder": "​",
            "style": "IPY_MODEL_a38db31d28cb47e096d664cf2c21e60c",
            "value": " 1980/1980 [00:01&lt;00:00, 1429.44 examples/s]"
          }
        },
        "f21bf8868ad04a7584a8428a87b1549d": {
          "model_module": "@jupyter-widgets/base",
          "model_name": "LayoutModel",
          "model_module_version": "1.2.0",
          "state": {
            "_model_module": "@jupyter-widgets/base",
            "_model_module_version": "1.2.0",
            "_model_name": "LayoutModel",
            "_view_count": null,
            "_view_module": "@jupyter-widgets/base",
            "_view_module_version": "1.2.0",
            "_view_name": "LayoutView",
            "align_content": null,
            "align_items": null,
            "align_self": null,
            "border": null,
            "bottom": null,
            "display": null,
            "flex": null,
            "flex_flow": null,
            "grid_area": null,
            "grid_auto_columns": null,
            "grid_auto_flow": null,
            "grid_auto_rows": null,
            "grid_column": null,
            "grid_gap": null,
            "grid_row": null,
            "grid_template_areas": null,
            "grid_template_columns": null,
            "grid_template_rows": null,
            "height": null,
            "justify_content": null,
            "justify_items": null,
            "left": null,
            "margin": null,
            "max_height": null,
            "max_width": null,
            "min_height": null,
            "min_width": null,
            "object_fit": null,
            "object_position": null,
            "order": null,
            "overflow": null,
            "overflow_x": null,
            "overflow_y": null,
            "padding": null,
            "right": null,
            "top": null,
            "visibility": null,
            "width": null
          }
        },
        "d8a152e0b39843998127795d70a8795b": {
          "model_module": "@jupyter-widgets/base",
          "model_name": "LayoutModel",
          "model_module_version": "1.2.0",
          "state": {
            "_model_module": "@jupyter-widgets/base",
            "_model_module_version": "1.2.0",
            "_model_name": "LayoutModel",
            "_view_count": null,
            "_view_module": "@jupyter-widgets/base",
            "_view_module_version": "1.2.0",
            "_view_name": "LayoutView",
            "align_content": null,
            "align_items": null,
            "align_self": null,
            "border": null,
            "bottom": null,
            "display": null,
            "flex": null,
            "flex_flow": null,
            "grid_area": null,
            "grid_auto_columns": null,
            "grid_auto_flow": null,
            "grid_auto_rows": null,
            "grid_column": null,
            "grid_gap": null,
            "grid_row": null,
            "grid_template_areas": null,
            "grid_template_columns": null,
            "grid_template_rows": null,
            "height": null,
            "justify_content": null,
            "justify_items": null,
            "left": null,
            "margin": null,
            "max_height": null,
            "max_width": null,
            "min_height": null,
            "min_width": null,
            "object_fit": null,
            "object_position": null,
            "order": null,
            "overflow": null,
            "overflow_x": null,
            "overflow_y": null,
            "padding": null,
            "right": null,
            "top": null,
            "visibility": null,
            "width": null
          }
        },
        "b4546a2031e5404db74c86f4a5512a3a": {
          "model_module": "@jupyter-widgets/controls",
          "model_name": "DescriptionStyleModel",
          "model_module_version": "1.5.0",
          "state": {
            "_model_module": "@jupyter-widgets/controls",
            "_model_module_version": "1.5.0",
            "_model_name": "DescriptionStyleModel",
            "_view_count": null,
            "_view_module": "@jupyter-widgets/base",
            "_view_module_version": "1.2.0",
            "_view_name": "StyleView",
            "description_width": ""
          }
        },
        "e334e25861274a9d9d01d0db9cfc2ed9": {
          "model_module": "@jupyter-widgets/base",
          "model_name": "LayoutModel",
          "model_module_version": "1.2.0",
          "state": {
            "_model_module": "@jupyter-widgets/base",
            "_model_module_version": "1.2.0",
            "_model_name": "LayoutModel",
            "_view_count": null,
            "_view_module": "@jupyter-widgets/base",
            "_view_module_version": "1.2.0",
            "_view_name": "LayoutView",
            "align_content": null,
            "align_items": null,
            "align_self": null,
            "border": null,
            "bottom": null,
            "display": null,
            "flex": null,
            "flex_flow": null,
            "grid_area": null,
            "grid_auto_columns": null,
            "grid_auto_flow": null,
            "grid_auto_rows": null,
            "grid_column": null,
            "grid_gap": null,
            "grid_row": null,
            "grid_template_areas": null,
            "grid_template_columns": null,
            "grid_template_rows": null,
            "height": null,
            "justify_content": null,
            "justify_items": null,
            "left": null,
            "margin": null,
            "max_height": null,
            "max_width": null,
            "min_height": null,
            "min_width": null,
            "object_fit": null,
            "object_position": null,
            "order": null,
            "overflow": null,
            "overflow_x": null,
            "overflow_y": null,
            "padding": null,
            "right": null,
            "top": null,
            "visibility": null,
            "width": null
          }
        },
        "8793d2ac0c104425aa2f55ca403e2928": {
          "model_module": "@jupyter-widgets/controls",
          "model_name": "ProgressStyleModel",
          "model_module_version": "1.5.0",
          "state": {
            "_model_module": "@jupyter-widgets/controls",
            "_model_module_version": "1.5.0",
            "_model_name": "ProgressStyleModel",
            "_view_count": null,
            "_view_module": "@jupyter-widgets/base",
            "_view_module_version": "1.2.0",
            "_view_name": "StyleView",
            "bar_color": null,
            "description_width": ""
          }
        },
        "553b53f3297c4294a75b41c9fc095ab3": {
          "model_module": "@jupyter-widgets/base",
          "model_name": "LayoutModel",
          "model_module_version": "1.2.0",
          "state": {
            "_model_module": "@jupyter-widgets/base",
            "_model_module_version": "1.2.0",
            "_model_name": "LayoutModel",
            "_view_count": null,
            "_view_module": "@jupyter-widgets/base",
            "_view_module_version": "1.2.0",
            "_view_name": "LayoutView",
            "align_content": null,
            "align_items": null,
            "align_self": null,
            "border": null,
            "bottom": null,
            "display": null,
            "flex": null,
            "flex_flow": null,
            "grid_area": null,
            "grid_auto_columns": null,
            "grid_auto_flow": null,
            "grid_auto_rows": null,
            "grid_column": null,
            "grid_gap": null,
            "grid_row": null,
            "grid_template_areas": null,
            "grid_template_columns": null,
            "grid_template_rows": null,
            "height": null,
            "justify_content": null,
            "justify_items": null,
            "left": null,
            "margin": null,
            "max_height": null,
            "max_width": null,
            "min_height": null,
            "min_width": null,
            "object_fit": null,
            "object_position": null,
            "order": null,
            "overflow": null,
            "overflow_x": null,
            "overflow_y": null,
            "padding": null,
            "right": null,
            "top": null,
            "visibility": null,
            "width": null
          }
        },
        "a38db31d28cb47e096d664cf2c21e60c": {
          "model_module": "@jupyter-widgets/controls",
          "model_name": "DescriptionStyleModel",
          "model_module_version": "1.5.0",
          "state": {
            "_model_module": "@jupyter-widgets/controls",
            "_model_module_version": "1.5.0",
            "_model_name": "DescriptionStyleModel",
            "_view_count": null,
            "_view_module": "@jupyter-widgets/base",
            "_view_module_version": "1.2.0",
            "_view_name": "StyleView",
            "description_width": ""
          }
        }
      }
    },
    "kaggle": {
      "accelerator": "none",
      "dataSources": [
        {
          "sourceId": 12016756,
          "sourceType": "datasetVersion",
          "datasetId": 7560207
        }
      ],
      "dockerImageVersionId": 31040,
      "isInternetEnabled": true,
      "language": "python",
      "sourceType": "notebook",
      "isGpuEnabled": false
    },
    "accelerator": "GPU"
  },
  "nbformat_minor": 0,
  "nbformat": 4,
  "cells": [
    {
      "cell_type": "code",
      "source": [
        "import os\n",
        "import re\n",
        "import numpy as np\n",
        "import pandas as pd\n",
        "import torch\n",
        "import torch.nn as nn\n",
        "from sklearn.model_selection import train_test_split\n",
        "from sklearn.utils.class_weight import compute_class_weight\n",
        "from datasets import Dataset\n",
        "from transformers import (\n",
        "    AutoTokenizer,\n",
        "    RobertaModel,\n",
        "    RobertaPreTrainedModel,\n",
        "    AutoConfig,\n",
        "    TrainingArguments,\n",
        "    Trainer,\n",
        "    EarlyStoppingCallback,\n",
        ")\n",
        "from sklearn.metrics import accuracy_score, precision_recall_fscore_support"
      ],
      "metadata": {
        "id": "sEA3-cwi_LAI",
        "trusted": true,
        "execution": {
          "iopub.status.busy": "2025-05-31T12:55:44.379848Z",
          "iopub.execute_input": "2025-05-31T12:55:44.380113Z",
          "iopub.status.idle": "2025-05-31T12:55:44.384706Z",
          "shell.execute_reply.started": "2025-05-31T12:55:44.380092Z",
          "shell.execute_reply": "2025-05-31T12:55:44.383952Z"
        }
      },
      "outputs": [],
      "execution_count": null
    },
    {
      "cell_type": "code",
      "source": [
        "df = pd.read_csv(\"/content/data_cleaned_sent_class.csv\")\n",
        "df[\"polarity\"] = df[\"polarity\"].str.lower()\n",
        "df = df[df[\"polarity\"] != \"conflict\"]\n",
        "df[\"polarity\"].value_counts()"
      ],
      "metadata": {
        "colab": {
          "base_uri": "https://localhost:8080/",
          "height": 209
        },
        "id": "VV2bCJNP_VNJ",
        "outputId": "808dfcaf-0b84-4b00-9304-0b0317619297",
        "trusted": true,
        "execution": {
          "iopub.status.busy": "2025-05-31T12:55:46.749574Z",
          "iopub.execute_input": "2025-05-31T12:55:46.750210Z",
          "iopub.status.idle": "2025-05-31T12:55:46.839983Z",
          "shell.execute_reply.started": "2025-05-31T12:55:46.750179Z",
          "shell.execute_reply": "2025-05-31T12:55:46.839094Z"
        }
      },
      "outputs": [
        {
          "output_type": "execute_result",
          "data": {
            "text/plain": [
              "polarity\n",
              "neutral     3470\n",
              "negative    3377\n",
              "positive    3149\n",
              "Name: count, dtype: int64"
            ],
            "text/html": [
              "<div>\n",
              "<style scoped>\n",
              "    .dataframe tbody tr th:only-of-type {\n",
              "        vertical-align: middle;\n",
              "    }\n",
              "\n",
              "    .dataframe tbody tr th {\n",
              "        vertical-align: top;\n",
              "    }\n",
              "\n",
              "    .dataframe thead th {\n",
              "        text-align: right;\n",
              "    }\n",
              "</style>\n",
              "<table border=\"1\" class=\"dataframe\">\n",
              "  <thead>\n",
              "    <tr style=\"text-align: right;\">\n",
              "      <th></th>\n",
              "      <th>count</th>\n",
              "    </tr>\n",
              "    <tr>\n",
              "      <th>polarity</th>\n",
              "      <th></th>\n",
              "    </tr>\n",
              "  </thead>\n",
              "  <tbody>\n",
              "    <tr>\n",
              "      <th>neutral</th>\n",
              "      <td>3470</td>\n",
              "    </tr>\n",
              "    <tr>\n",
              "      <th>negative</th>\n",
              "      <td>3377</td>\n",
              "    </tr>\n",
              "    <tr>\n",
              "      <th>positive</th>\n",
              "      <td>3149</td>\n",
              "    </tr>\n",
              "  </tbody>\n",
              "</table>\n",
              "</div><br><label><b>dtype:</b> int64</label>"
            ]
          },
          "metadata": {},
          "execution_count": 31
        }
      ],
      "execution_count": null
    },
    {
      "cell_type": "code",
      "source": [
        "df[\"model_input\"] = df[\"sentence\"]"
      ],
      "metadata": {
        "trusted": true,
        "execution": {
          "iopub.status.busy": "2025-05-31T12:55:56.475426Z",
          "iopub.execute_input": "2025-05-31T12:55:56.475738Z",
          "iopub.status.idle": "2025-05-31T12:55:56.482461Z",
          "shell.execute_reply.started": "2025-05-31T12:55:56.475710Z",
          "shell.execute_reply": "2025-05-31T12:55:56.481834Z"
        },
        "id": "18Y-_C2Hcgwi"
      },
      "outputs": [],
      "execution_count": null
    },
    {
      "cell_type": "code",
      "source": [
        "train_df, temp_df = train_test_split(\n",
        "    df,\n",
        "    test_size=0.30,\n",
        "    stratify=df['polarity'],\n",
        "    random_state=42\n",
        ")\n",
        "valid_df, test_df = train_test_split(\n",
        "    temp_df,\n",
        "    test_size=0.66,  # ≈ 20 % du total\n",
        "    stratify=temp_df['polarity'],\n",
        "    random_state=42\n",
        ")\n",
        "\n",
        "print(f\"Tailles : Train={len(train_df)}, Valid={len(valid_df)}, Test={len(test_df)}\")"
      ],
      "metadata": {
        "trusted": true,
        "execution": {
          "iopub.status.busy": "2025-05-31T12:56:10.466124Z",
          "iopub.execute_input": "2025-05-31T12:56:10.466671Z",
          "iopub.status.idle": "2025-05-31T12:56:10.477129Z",
          "shell.execute_reply.started": "2025-05-31T12:56:10.466645Z",
          "shell.execute_reply": "2025-05-31T12:56:10.476348Z"
        },
        "colab": {
          "base_uri": "https://localhost:8080/"
        },
        "id": "M4QuCjHxcgwn",
        "outputId": "76ffaf5f-88cb-4c32-e353-7878152edd38"
      },
      "outputs": [
        {
          "output_type": "stream",
          "name": "stdout",
          "text": [
            "Tailles : Train=6997, Valid=1019, Test=1980\n"
          ]
        }
      ],
      "execution_count": null
    },
    {
      "cell_type": "code",
      "source": [
        "def clean_text(text: str) -> str:\n",
        "    text = text.lower()\n",
        "    text = re.sub(r'http\\S+', '', text)\n",
        "    text = re.sub(r'[@#]\\S+', '', text)\n",
        "    text = re.sub(r'[^a-z0-9éèàçôûîäëïöüâêîôûùœ€\\[\\]/ ]', ' ', text)\n",
        "    text = re.sub(r'\\s+', ' ', text).strip()\n",
        "    return text\n"
      ],
      "metadata": {
        "id": "iq35UzGLgZTX"
      },
      "execution_count": null,
      "outputs": []
    },
    {
      "cell_type": "code",
      "source": [
        "# On choisit le format RoBERTa \"[aspect_term] </s> [clean_sentence]\"\n",
        "for df_ in [train_df, valid_df, test_df]:\n",
        "    df_[\"clean_sentence\"] = df_[\"sentence\"].map(clean_text)\n",
        "    df_[\"model_input\"] = df_.apply(\n",
        "        lambda row: f\"{row['aspect_term']} </s> {row['clean_sentence']}\",\n",
        "        axis=1\n",
        "    )\n",
        "    # Conversion des labels en entiers\n",
        "    df_[\"label\"] = df_[\"polarity\"].map({\"positive\": 0, \"negative\": 1, \"neutral\": 2})\n"
      ],
      "metadata": {
        "id": "dDXeEM_BmxM2"
      },
      "execution_count": null,
      "outputs": []
    },
    {
      "cell_type": "code",
      "source": [
        "tokenizer = AutoTokenizer.from_pretrained(\"roberta-large\")\n",
        "all_lengths = [\n",
        "    len(tokenizer.encode(txt, add_special_tokens=True))\n",
        "    for txt in train_df[\"model_input\"]\n",
        "]\n",
        "percentile_90 = int(np.percentile(all_lengths, 90))\n",
        "percentile_95 = int(np.percentile(all_lengths, 95))\n",
        "print(f\"90ᵉ percentile : {percentile_90}\")\n",
        "print(f\"95ᵉ percentile : {percentile_95}\")\n",
        "# On fixe max_length à 80 après analyse\n",
        "MAX_LEN = 80\n"
      ],
      "metadata": {
        "colab": {
          "base_uri": "https://localhost:8080/"
        },
        "id": "sD3S2KBggmbD",
        "outputId": "1f6c7abe-6adc-416e-a983-0a1ae6a1bc1d"
      },
      "execution_count": null,
      "outputs": [
        {
          "output_type": "stream",
          "name": "stdout",
          "text": [
            "90ᵉ percentile : 41\n",
            "95ᵉ percentile : 46\n"
          ]
        }
      ]
    },
    {
      "cell_type": "code",
      "source": [
        "# On inclut 'aspect_term' dans chaque Dataset pour pouvoir calculer les positions\n",
        "train_ds = Dataset.from_pandas(\n",
        "    train_df[[\"model_input\", \"label\", \"aspect_term\"]]\n",
        ")\n",
        "valid_ds = Dataset.from_pandas(\n",
        "    valid_df[[\"model_input\", \"label\", \"aspect_term\"]]\n",
        ")\n",
        "test_ds = Dataset.from_pandas(\n",
        "    test_df[[\"model_input\", \"label\", \"aspect_term\"]]\n",
        ")\n"
      ],
      "metadata": {
        "id": "Od5R-4YDgwMa"
      },
      "execution_count": null,
      "outputs": []
    },
    {
      "cell_type": "code",
      "source": [
        "def get_relative_positions(text: str, aspect: str, tokenizer, max_len: int = MAX_LEN):\n",
        "    \"\"\"\n",
        "    Pour chaque token de `text`, renvoie la distance (en nombre de tokens)\n",
        "    jusqu'au début de `aspect`. Si l'aspect n'est pas trouvé, on met max_len.\n",
        "    \"\"\"\n",
        "    # Tokenize la phrase complète (incluant l’aspect dans le texte)\n",
        "    tokens = tokenizer.tokenize(text)\n",
        "    aspect_tokens = tokenizer.tokenize(aspect)\n",
        "    asp_len = len(aspect_tokens)\n",
        "    aspect_start = -1\n",
        "\n",
        "    # Recherche de la première occurrence des tokens d'aspect\n",
        "    for i in range(len(tokens) - asp_len + 1):\n",
        "        if tokens[i : i + asp_len] == aspect_tokens:\n",
        "            aspect_start = i\n",
        "            break\n",
        "\n",
        "    # Si l’aspect n’est pas trouvée, on retourne une liste pleine de max_len\n",
        "    if aspect_start == -1:\n",
        "        return [max_len] * max_len\n",
        "\n",
        "    # Calcul de la distance absolue au premier token d'aspect\n",
        "    rel_positions = [abs(i - aspect_start) for i in range(len(tokens))]\n",
        "    # Tronquer/padder pour avoir exactement max_len\n",
        "    rel_positions = rel_positions[:max_len] + [max_len] * (max_len - len(rel_positions))\n",
        "    return rel_positions\n"
      ],
      "metadata": {
        "id": "_87bfSGuV7Ps"
      },
      "execution_count": null,
      "outputs": []
    },
    {
      "cell_type": "code",
      "source": [
        "def preprocess_fn(examples):\n",
        "    encodings = tokenizer(\n",
        "        examples[\"model_input\"],\n",
        "        padding=\"max_length\",\n",
        "        truncation=True,\n",
        "        max_length=MAX_LEN,\n",
        "        return_tensors=None\n",
        "    )\n",
        "    encodings[\"labels\"] = examples[\"label\"]\n",
        "\n",
        "    # Calcul du vecteur de positions relatives pour chaque exemple\n",
        "    rel_pos_batch = []\n",
        "    for text, aspect in zip(examples[\"model_input\"], examples[\"aspect_term\"]):\n",
        "        rel_pos = get_relative_positions(text, aspect, tokenizer, max_len=MAX_LEN)\n",
        "        rel_pos_batch.append(rel_pos)\n",
        "    encodings[\"relative_positions\"] = rel_pos_batch\n",
        "\n",
        "    return encodings\n"
      ],
      "metadata": {
        "id": "1iCTU0Aggzos"
      },
      "execution_count": null,
      "outputs": []
    },
    {
      "cell_type": "code",
      "source": [
        "tokenized_train = train_ds.map(\n",
        "    preprocess_fn,\n",
        "    batched=True,\n",
        "    remove_columns=train_ds.column_names\n",
        ")\n",
        "tokenized_valid = valid_ds.map(\n",
        "    preprocess_fn,\n",
        "    batched=True,\n",
        "    remove_columns=valid_ds.column_names\n",
        ")\n",
        "tokenized_test = test_ds.map(\n",
        "    preprocess_fn,\n",
        "    batched=True,\n",
        "    remove_columns=test_ds.column_names\n",
        ")\n"
      ],
      "metadata": {
        "colab": {
          "base_uri": "https://localhost:8080/",
          "height": 113,
          "referenced_widgets": [
            "daa687f90236420cbb000bb6232d9567",
            "4c4b8998b44a4ff0a3e5a0e1caf5e943",
            "8113beb65b9349c4b0531c66fdd71c6d",
            "4f46f50bc23f4ae0be3747afae13e730",
            "b2e30e8ff5b9422f8059fb25e54719a4",
            "dc9cd6e05f5843bea6c4fb97889041cf",
            "fa7ca8e2c7d2496d9819f2af7f313a48",
            "26b085c3180e4e978e6f6fe861b73104",
            "ecf95fcab7534d489464e248266d737f",
            "6d4cebf3d8be4ff8a44bd6bb723038ce",
            "39563e798f8c410c8302261942153046",
            "24a00e3770994b0c8035c49cee3709ab",
            "75d627ddee59496f9e1eb60d26978947",
            "f32754ccaa344da899ed0b48a5b7cadf",
            "737464b41d2f43f989c4b983911ac9e2",
            "edf71ccd2143469cad603d65deb13176",
            "f07805dd5d85420e99614ef75706386b",
            "dba0e3ce946245f4998ac5f46bf9cee6",
            "00a269d3c6324cf793e7ee401d111a3c",
            "59d6c57b0e57484b84c779787f620c14",
            "c6041687c1de46ae84654e574d243075",
            "f6e710c0c9064ba2bee9ff1b7388fef4",
            "f1d1d6a7192a44d0bb4ec40438099611",
            "010d29f0d76c47a9bc8aebfa854feede",
            "1f5be43de78a48819d6241038fea9629",
            "e86b931a940a40c1931cd94ced719c0c",
            "f21bf8868ad04a7584a8428a87b1549d",
            "d8a152e0b39843998127795d70a8795b",
            "b4546a2031e5404db74c86f4a5512a3a",
            "e334e25861274a9d9d01d0db9cfc2ed9",
            "8793d2ac0c104425aa2f55ca403e2928",
            "553b53f3297c4294a75b41c9fc095ab3",
            "a38db31d28cb47e096d664cf2c21e60c"
          ]
        },
        "id": "WGqwUdZTg7aW",
        "outputId": "6418c8ae-6a25-4c21-fafb-ed7ee33890cf"
      },
      "execution_count": null,
      "outputs": [
        {
          "output_type": "display_data",
          "data": {
            "text/plain": [
              "Map:   0%|          | 0/6997 [00:00<?, ? examples/s]"
            ],
            "application/vnd.jupyter.widget-view+json": {
              "version_major": 2,
              "version_minor": 0,
              "model_id": "daa687f90236420cbb000bb6232d9567"
            }
          },
          "metadata": {}
        },
        {
          "output_type": "display_data",
          "data": {
            "text/plain": [
              "Map:   0%|          | 0/1019 [00:00<?, ? examples/s]"
            ],
            "application/vnd.jupyter.widget-view+json": {
              "version_major": 2,
              "version_minor": 0,
              "model_id": "24a00e3770994b0c8035c49cee3709ab"
            }
          },
          "metadata": {}
        },
        {
          "output_type": "display_data",
          "data": {
            "text/plain": [
              "Map:   0%|          | 0/1980 [00:00<?, ? examples/s]"
            ],
            "application/vnd.jupyter.widget-view+json": {
              "version_major": 2,
              "version_minor": 0,
              "model_id": "f1d1d6a7192a44d0bb4ec40438099611"
            }
          },
          "metadata": {}
        }
      ]
    },
    {
      "cell_type": "code",
      "source": [
        "y_train = train_df[\"label\"].to_numpy()\n",
        "class_weights = compute_class_weight(\n",
        "    class_weight=\"balanced\",\n",
        "    classes=np.unique(y_train),\n",
        "    y=y_train\n",
        ")\n",
        "class_weights_tensor = torch.tensor(class_weights, dtype=torch.float)\n",
        "print(f\"Poids de classe : {class_weights}\")\n"
      ],
      "metadata": {
        "colab": {
          "base_uri": "https://localhost:8080/"
        },
        "id": "PPs5t56Sg_gT",
        "outputId": "4f0f7b98-8b5b-479e-e9ac-10e6ab57051e"
      },
      "execution_count": null,
      "outputs": [
        {
          "output_type": "stream",
          "name": "stdout",
          "text": [
            "Poids de classe : [1.05822747 0.98660462 0.9602031 ]\n"
          ]
        }
      ]
    },
    {
      "cell_type": "code",
      "source": [
        "def compute_metrics(eval_pred):\n",
        "    logits, labels = eval_pred\n",
        "    preds = np.argmax(logits, axis=-1)\n",
        "    precision, recall, f1, _ = precision_recall_fscore_support(\n",
        "        labels, preds, average=\"weighted\", zero_division=0\n",
        "    )\n",
        "    accuracy = accuracy_score(labels, preds)\n",
        "    f1_pc, _, _, _ = precision_recall_fscore_support(\n",
        "        labels, preds, average=None, zero_division=0\n",
        "    )\n",
        "    metrics = {\n",
        "        \"accuracy\": accuracy,\n",
        "        \"f1\": f1,\n",
        "        \"precision\": precision,\n",
        "        \"recall\": recall,\n",
        "    }\n",
        "    class_names = [\"positive\", \"negative\", \"neutral\"]\n",
        "    for i, cn in enumerate(class_names):\n",
        "        metrics[f\"f1_{cn}\"] = float(f1_pc[i])\n",
        "    return metrics\n"
      ],
      "metadata": {
        "id": "Drk3txOVesOB"
      },
      "execution_count": null,
      "outputs": []
    },
    {
      "cell_type": "code",
      "source": [
        "model_name = \"roberta-large\"\n",
        "config = AutoConfig.from_pretrained(\n",
        "    model_name,\n",
        "    num_labels=3,\n",
        "    id2label={0: \"positive\", 1: \"negative\", 2: \"neutral\"},\n",
        "    label2id={\"positive\": 0, \"negative\": 1, \"neutral\": 2},\n",
        ")\n",
        "tokenizer = AutoTokenizer.from_pretrained(model_name)\n",
        "\n",
        "# Utilisation de la tête de classification standard\n",
        "from transformers import AutoModelForSequenceClassification\n",
        "model = AutoModelForSequenceClassification.from_pretrained(\n",
        "    model_name,\n",
        "    config=config\n",
        ")\n",
        "\n",
        "# (Optionnel) Si tu veux toujours pondérer la loss :\n",
        "model.class_weights = class_weights_tensor\n"
      ],
      "metadata": {
        "colab": {
          "base_uri": "https://localhost:8080/"
        },
        "id": "AWtbSDuMAONo",
        "outputId": "40e932f5-b9ca-4fe8-faf9-5e9672e97def",
        "trusted": true,
        "execution": {
          "iopub.status.busy": "2025-05-31T12:56:34.821226Z",
          "iopub.execute_input": "2025-05-31T12:56:34.821526Z",
          "iopub.status.idle": "2025-05-31T12:56:38.503936Z",
          "shell.execute_reply.started": "2025-05-31T12:56:34.821501Z",
          "shell.execute_reply": "2025-05-31T12:56:38.503191Z"
        }
      },
      "outputs": [
        {
          "output_type": "stream",
          "name": "stderr",
          "text": [
            "Some weights of RobertaForSequenceClassification were not initialized from the model checkpoint at roberta-large and are newly initialized: ['classifier.dense.bias', 'classifier.dense.weight', 'classifier.out_proj.bias', 'classifier.out_proj.weight']\n",
            "You should probably TRAIN this model on a down-stream task to be able to use it for predictions and inference.\n"
          ]
        }
      ],
      "execution_count": null
    },
    {
      "cell_type": "code",
      "source": [
        "output_dir = \"/content/working/absa_roberta_position\"\n",
        "os.makedirs(output_dir, exist_ok=True)\n",
        "os.makedirs(f\"{output_dir}/logs\", exist_ok=True)\n",
        "\n",
        "training_args = TrainingArguments(\n",
        "    output_dir=output_dir,\n",
        "    num_train_epochs=4,\n",
        "    per_device_train_batch_size=16,\n",
        "    per_device_eval_batch_size=32,\n",
        "    gradient_accumulation_steps=2,  # équivalent à batch_size 32\n",
        "    learning_rate=3e-5,\n",
        "    weight_decay=0.01,\n",
        "    warmup_ratio=0.2,\n",
        "    eval_strategy=\"epoch\",\n",
        "    save_strategy=\"epoch\",\n",
        "    logging_dir=f\"{output_dir}/logs\",\n",
        "    logging_steps=50,\n",
        "    load_best_model_at_end=True,\n",
        "    metric_for_best_model=\"f1\",\n",
        "    greater_is_better=True,\n",
        "    save_total_limit=2,\n",
        "    seed=42,\n",
        "    data_seed=42,\n",
        "    report_to=[],\n",
        "    fp16=torch.cuda.is_available(),\n",
        "    dataloader_num_workers=2,\n",
        ")\n",
        "\n",
        "print(f\"Device utilisé : {'GPU' if torch.cuda.is_available() else 'CPU'}\")\n",
        "print(f\"Mixed precision : {training_args.fp16}\")\n"
      ],
      "metadata": {
        "id": "3YIpxMPCAfbv",
        "trusted": true,
        "execution": {
          "iopub.status.busy": "2025-05-31T12:56:58.191778Z",
          "iopub.execute_input": "2025-05-31T12:56:58.192045Z",
          "iopub.status.idle": "2025-05-31T12:56:58.204066Z",
          "shell.execute_reply.started": "2025-05-31T12:56:58.192027Z",
          "shell.execute_reply": "2025-05-31T12:56:58.203351Z"
        },
        "colab": {
          "base_uri": "https://localhost:8080/"
        },
        "outputId": "4501c2cf-eb19-4189-a633-33492c600f3a"
      },
      "outputs": [
        {
          "output_type": "stream",
          "name": "stdout",
          "text": [
            "Device utilisé : GPU\n",
            "Mixed precision : True\n"
          ]
        }
      ],
      "execution_count": null
    },
    {
      "cell_type": "code",
      "source": [
        "def data_collator(features):\n",
        "    batch = {\n",
        "        \"input_ids\": torch.tensor([f[\"input_ids\"] for f in features], dtype=torch.long),\n",
        "        \"attention_mask\": torch.tensor([f[\"attention_mask\"] for f in features], dtype=torch.long),\n",
        "        \"labels\": torch.tensor([f[\"labels\"] for f in features], dtype=torch.long),\n",
        "    }\n",
        "    return batch\n"
      ],
      "metadata": {
        "trusted": true,
        "execution": {
          "iopub.status.busy": "2025-05-31T12:57:06.379066Z",
          "iopub.execute_input": "2025-05-31T12:57:06.379331Z",
          "iopub.status.idle": "2025-05-31T12:57:06.409942Z",
          "shell.execute_reply.started": "2025-05-31T12:57:06.379309Z",
          "shell.execute_reply": "2025-05-31T12:57:06.409119Z"
        },
        "id": "5k8PHqV_cgwz"
      },
      "outputs": [],
      "execution_count": null
    },
    {
      "cell_type": "code",
      "source": [
        "class WeightedLossTrainer(Trainer):\n",
        "    \"\"\"\n",
        "    Trainer avec perte CrossEntropy pondérée par les poids de classe.\n",
        "    \"\"\"\n",
        "    def __init__(self, *args, class_weights=None, **kwargs):\n",
        "        super().__init__(*args, **kwargs)\n",
        "        self.class_weights = class_weights\n",
        "\n",
        "    def compute_loss(self, model, inputs, return_outputs=False, num_items_in_batch=None):\n",
        "        # Récupération des labels\n",
        "        labels = inputs.pop(\"labels\")\n",
        "\n",
        "        # Forward pass\n",
        "        outputs = model(\n",
        "            input_ids=inputs.get(\"input_ids\"),\n",
        "            attention_mask=inputs.get(\"attention_mask\"),\n",
        "            labels=labels,\n",
        "        )\n",
        "        # SequenceClassifierOutput\n",
        "        loss = outputs.loss\n",
        "        logits = outputs.logits\n",
        "\n",
        "        # Si class_weights défini, override de la loss\n",
        "        if self.class_weights is not None:\n",
        "            cw = self.class_weights.to(logits.device)\n",
        "            loss_fn = nn.CrossEntropyLoss(weight=cw)\n",
        "            loss = loss_fn(logits, labels)\n",
        "\n",
        "        return (loss, outputs) if return_outputs else loss\n"
      ],
      "metadata": {
        "trusted": true,
        "execution": {
          "iopub.status.busy": "2025-05-31T12:57:09.951230Z",
          "iopub.execute_input": "2025-05-31T12:57:09.952028Z",
          "iopub.status.idle": "2025-05-31T12:57:10.293772Z",
          "shell.execute_reply.started": "2025-05-31T12:57:09.951991Z",
          "shell.execute_reply": "2025-05-31T12:57:10.292978Z"
        },
        "id": "7LtTiusNcgwz"
      },
      "outputs": [],
      "execution_count": null
    },
    {
      "cell_type": "code",
      "source": [
        "trainer = WeightedLossTrainer(\n",
        "    model=model,\n",
        "    args=training_args,\n",
        "    train_dataset=tokenized_train,\n",
        "    eval_dataset=tokenized_valid,\n",
        "    compute_metrics=compute_metrics,\n",
        "    class_weights=class_weights_tensor,\n",
        "    data_collator=data_collator,\n",
        "    callbacks=[EarlyStoppingCallback(early_stopping_patience=2)]\n",
        ")\n",
        "\n"
      ],
      "metadata": {
        "trusted": true,
        "execution": {
          "iopub.status.busy": "2025-05-31T12:57:14.269517Z",
          "iopub.execute_input": "2025-05-31T12:57:14.269793Z",
          "iopub.status.idle": "2025-05-31T13:13:26.198114Z",
          "shell.execute_reply.started": "2025-05-31T12:57:14.269773Z",
          "shell.execute_reply": "2025-05-31T13:13:26.197236Z"
        },
        "id": "-vk6qb3scgw0"
      },
      "outputs": [],
      "execution_count": null
    },
    {
      "cell_type": "code",
      "source": [
        "train_result = trainer.train()"
      ],
      "metadata": {
        "id": "G0Iy0dsLWWOE",
        "colab": {
          "base_uri": "https://localhost:8080/",
          "height": 201
        },
        "outputId": "46f36bb6-2f1b-4c12-a6c5-fc8cfa9d7c19"
      },
      "execution_count": null,
      "outputs": [
        {
          "output_type": "display_data",
          "data": {
            "text/plain": [
              "<IPython.core.display.HTML object>"
            ],
            "text/html": [
              "\n",
              "    <div>\n",
              "      \n",
              "      <progress value='876' max='876' style='width:300px; height:20px; vertical-align: middle;'></progress>\n",
              "      [876/876 21:33, Epoch 4/4]\n",
              "    </div>\n",
              "    <table border=\"1\" class=\"dataframe\">\n",
              "  <thead>\n",
              " <tr style=\"text-align: left;\">\n",
              "      <th>Epoch</th>\n",
              "      <th>Training Loss</th>\n",
              "      <th>Validation Loss</th>\n",
              "      <th>Accuracy</th>\n",
              "      <th>F1</th>\n",
              "      <th>Precision</th>\n",
              "      <th>Recall</th>\n",
              "      <th>F1 Positive</th>\n",
              "      <th>F1 Negative</th>\n",
              "      <th>F1 Neutral</th>\n",
              "    </tr>\n",
              "  </thead>\n",
              "  <tbody>\n",
              "    <tr>\n",
              "      <td>1</td>\n",
              "      <td>0.617000</td>\n",
              "      <td>0.569935</td>\n",
              "      <td>0.771344</td>\n",
              "      <td>0.770885</td>\n",
              "      <td>0.782530</td>\n",
              "      <td>0.771344</td>\n",
              "      <td>0.678922</td>\n",
              "      <td>0.886435</td>\n",
              "      <td>0.775510</td>\n",
              "    </tr>\n",
              "    <tr>\n",
              "      <td>2</td>\n",
              "      <td>0.412900</td>\n",
              "      <td>0.438928</td>\n",
              "      <td>0.830226</td>\n",
              "      <td>0.828189</td>\n",
              "      <td>0.833202</td>\n",
              "      <td>0.830226</td>\n",
              "      <td>0.858521</td>\n",
              "      <td>0.797030</td>\n",
              "      <td>0.845395</td>\n",
              "    </tr>\n",
              "    <tr>\n",
              "      <td>3</td>\n",
              "      <td>0.248200</td>\n",
              "      <td>0.459869</td>\n",
              "      <td>0.871443</td>\n",
              "      <td>0.871187</td>\n",
              "      <td>0.871466</td>\n",
              "      <td>0.871443</td>\n",
              "      <td>0.838323</td>\n",
              "      <td>0.919308</td>\n",
              "      <td>0.855030</td>\n",
              "    </tr>\n",
              "    <tr>\n",
              "      <td>4</td>\n",
              "      <td>0.120400</td>\n",
              "      <td>0.491865</td>\n",
              "      <td>0.885182</td>\n",
              "      <td>0.885048</td>\n",
              "      <td>0.884963</td>\n",
              "      <td>0.885182</td>\n",
              "      <td>0.874608</td>\n",
              "      <td>0.914040</td>\n",
              "      <td>0.866097</td>\n",
              "    </tr>\n",
              "  </tbody>\n",
              "</table><p>"
            ]
          },
          "metadata": {}
        }
      ]
    },
    {
      "cell_type": "code",
      "source": [
        "final_metrics = trainer.evaluate(eval_dataset=tokenized_test)\n",
        "print(\"Métriques finales sur le test set :\", final_metrics)\n"
      ],
      "metadata": {
        "colab": {
          "base_uri": "https://localhost:8080/",
          "height": 74
        },
        "id": "0pYPrjnriJ8E",
        "outputId": "20e9192a-1d3a-40f4-a6c9-e169c727f8b9"
      },
      "execution_count": null,
      "outputs": [
        {
          "output_type": "display_data",
          "data": {
            "text/plain": [
              "<IPython.core.display.HTML object>"
            ],
            "text/html": [
              "\n",
              "    <div>\n",
              "      \n",
              "      <progress value='62' max='62' style='width:300px; height:20px; vertical-align: middle;'></progress>\n",
              "      [62/62 00:05]\n",
              "    </div>\n",
              "    "
            ]
          },
          "metadata": {}
        },
        {
          "output_type": "stream",
          "name": "stdout",
          "text": [
            "Métriques finales sur le test set : {'eval_loss': 0.41523319482803345, 'eval_accuracy': 0.8994949494949495, 'eval_f1': 0.8991252204581427, 'eval_precision': 0.8991686315643137, 'eval_recall': 0.8994949494949495, 'eval_f1_positive': 0.9024390243902439, 'eval_f1_negative': 0.9124820659971306, 'eval_f1_neutral': 0.8832335329341318, 'eval_runtime': 5.7755, 'eval_samples_per_second': 342.828, 'eval_steps_per_second': 10.735, 'epoch': 4.0}\n"
          ]
        }
      ]
    },
    {
      "cell_type": "code",
      "source": [
        "from google.colab import drive\n",
        "drive.mount('/content/drive')"
      ],
      "metadata": {
        "colab": {
          "base_uri": "https://localhost:8080/"
        },
        "id": "unK4R84MraG0",
        "outputId": "2f1d324e-b00e-4c78-a2f5-3deeb2d60195"
      },
      "execution_count": null,
      "outputs": [
        {
          "output_type": "stream",
          "name": "stdout",
          "text": [
            "Drive already mounted at /content/drive; to attempt to forcibly remount, call drive.mount(\"/content/drive\", force_remount=True).\n"
          ]
        }
      ]
    },
    {
      "cell_type": "code",
      "source": [
        "# Chemin vers ton dossier dans Google Drive\n",
        "save_path = \"/content/drive/MyDrive/absa_model/sentiment_classifier/\"\n",
        "\n",
        "# Sauvegarder le modèle\n",
        "model.save_pretrained(save_path)\n",
        "\n",
        "# Sauvegarder aussi le tokenizer\n",
        "tokenizer.save_pretrained(save_path)"
      ],
      "metadata": {
        "colab": {
          "base_uri": "https://localhost:8080/"
        },
        "id": "CMlLlfaBsBFA",
        "outputId": "b6c716dc-c65a-473d-a9d1-ce2acbf4556f"
      },
      "execution_count": null,
      "outputs": [
        {
          "output_type": "execute_result",
          "data": {
            "text/plain": [
              "('/content/drive/MyDrive/absa_model/sentiment_classifier/tokenizer_config.json',\n",
              " '/content/drive/MyDrive/absa_model/sentiment_classifier/special_tokens_map.json',\n",
              " '/content/drive/MyDrive/absa_model/sentiment_classifier/vocab.json',\n",
              " '/content/drive/MyDrive/absa_model/sentiment_classifier/merges.txt',\n",
              " '/content/drive/MyDrive/absa_model/sentiment_classifier/added_tokens.json',\n",
              " '/content/drive/MyDrive/absa_model/sentiment_classifier/tokenizer.json')"
            ]
          },
          "metadata": {},
          "execution_count": 65
        }
      ]
    }
  ]
}